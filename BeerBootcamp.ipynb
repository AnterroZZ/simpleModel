{
 "cells": [
  {
   "cell_type": "markdown",
   "metadata": {},
   "source": [
    "# Something about the data\n",
    "\n",
    "__Style - style of a beer__ ( this is the thing to predict )\n",
    "\n",
    "OG - Specific gravity of wort before fermentation\n",
    "\n",
    "FG - Specific gravity of wort after fermentation\n",
    "\n",
    "ABV - Alcohol By Volume\n",
    "\n",
    "IBU - International Bittering Units\n",
    "\n",
    "Color - Standard Reference Method - light to dark ex. 40 = black\n",
    "\n",
    "BoilGravity - Specific gravity of wort before the boil\n",
    "\n",
    "PitchRate - Yeast added to the fermentor per gravity unit - M cells/ml/deg P\n",
    "\n",
    "Efficiency - Beer mash extraction efficiency - extracting sugars from the grain during mash\n",
    "\n",
    "UserId - ID of Brewer's Friend user who shared data"
   ]
  },
  {
   "cell_type": "code",
   "execution_count": 1,
   "metadata": {},
   "outputs": [],
   "source": [
    "import pandas as pd\n",
    "import numpy as np\n",
    "\n",
    "import matplotlib.pyplot as plt\n",
    "import seaborn as sns\n",
    "\n",
    "from sklearn.linear_model import LinearRegression\n",
    "from sklearn.tree import DecisionTreeClassifier\n",
    "from sklearn.model_selection import train_test_split\n",
    "from sklearn.model_selection import GridSearchCV\n",
    "\n",
    "from sklearn.metrics import confusion_matrix, precision_score\n",
    "from sklearn.metrics import recall_score, f1_score, accuracy_score"
   ]
  },
  {
   "cell_type": "code",
   "execution_count": 2,
   "metadata": {},
   "outputs": [],
   "source": [
    "data = pd.read_csv('data/beers.csv')"
   ]
  },
  {
   "cell_type": "code",
   "execution_count": 3,
   "metadata": {},
   "outputs": [
    {
     "data": {
      "text/html": [
       "<div>\n",
       "<style scoped>\n",
       "    .dataframe tbody tr th:only-of-type {\n",
       "        vertical-align: middle;\n",
       "    }\n",
       "\n",
       "    .dataframe tbody tr th {\n",
       "        vertical-align: top;\n",
       "    }\n",
       "\n",
       "    .dataframe thead th {\n",
       "        text-align: right;\n",
       "    }\n",
       "</style>\n",
       "<table border=\"1\" class=\"dataframe\">\n",
       "  <thead>\n",
       "    <tr style=\"text-align: right;\">\n",
       "      <th></th>\n",
       "      <th>Name</th>\n",
       "      <th>Style</th>\n",
       "      <th>OG</th>\n",
       "      <th>FG</th>\n",
       "      <th>ABV</th>\n",
       "      <th>IBU</th>\n",
       "      <th>Color</th>\n",
       "      <th>BoilTime</th>\n",
       "      <th>BoilGravity</th>\n",
       "      <th>PitchRate</th>\n",
       "      <th>Efficiency</th>\n",
       "      <th>UserId</th>\n",
       "    </tr>\n",
       "  </thead>\n",
       "  <tbody>\n",
       "    <tr>\n",
       "      <th>0</th>\n",
       "      <td>Black Betty</td>\n",
       "      <td>Stout</td>\n",
       "      <td>1.069</td>\n",
       "      <td>1.007</td>\n",
       "      <td>8.12</td>\n",
       "      <td>0.00</td>\n",
       "      <td>30.48</td>\n",
       "      <td>60</td>\n",
       "      <td>NaN</td>\n",
       "      <td>NaN</td>\n",
       "      <td>75.0</td>\n",
       "      <td>NaN</td>\n",
       "    </tr>\n",
       "    <tr>\n",
       "      <th>1</th>\n",
       "      <td>Leon's Tail Red Ale</td>\n",
       "      <td>Ale</td>\n",
       "      <td>1.064</td>\n",
       "      <td>1.012</td>\n",
       "      <td>6.80</td>\n",
       "      <td>9.36</td>\n",
       "      <td>9.85</td>\n",
       "      <td>60</td>\n",
       "      <td>1.132</td>\n",
       "      <td>0.50</td>\n",
       "      <td>35.0</td>\n",
       "      <td>NaN</td>\n",
       "    </tr>\n",
       "    <tr>\n",
       "      <th>2</th>\n",
       "      <td>Coya's Bad Dog Chocolate Stout  swedish</td>\n",
       "      <td>Stout</td>\n",
       "      <td>1.061</td>\n",
       "      <td>1.015</td>\n",
       "      <td>6.08</td>\n",
       "      <td>28.31</td>\n",
       "      <td>35.83</td>\n",
       "      <td>60</td>\n",
       "      <td>1.044</td>\n",
       "      <td>0.35</td>\n",
       "      <td>83.0</td>\n",
       "      <td>42087.0</td>\n",
       "    </tr>\n",
       "    <tr>\n",
       "      <th>3</th>\n",
       "      <td>American Pale Ale</td>\n",
       "      <td>Ale</td>\n",
       "      <td>1.053</td>\n",
       "      <td>1.012</td>\n",
       "      <td>5.44</td>\n",
       "      <td>46.48</td>\n",
       "      <td>5.77</td>\n",
       "      <td>60</td>\n",
       "      <td>1.033</td>\n",
       "      <td>NaN</td>\n",
       "      <td>70.0</td>\n",
       "      <td>NaN</td>\n",
       "    </tr>\n",
       "    <tr>\n",
       "      <th>4</th>\n",
       "      <td>GDB Pils</td>\n",
       "      <td>Lager</td>\n",
       "      <td>1.053</td>\n",
       "      <td>1.017</td>\n",
       "      <td>4.64</td>\n",
       "      <td>42.29</td>\n",
       "      <td>4.22</td>\n",
       "      <td>90</td>\n",
       "      <td>1.039</td>\n",
       "      <td>0.50</td>\n",
       "      <td>77.0</td>\n",
       "      <td>14729.0</td>\n",
       "    </tr>\n",
       "  </tbody>\n",
       "</table>\n",
       "</div>"
      ],
      "text/plain": [
       "                                      Name  Style     OG     FG   ABV    IBU  \\\n",
       "0                              Black Betty  Stout  1.069  1.007  8.12   0.00   \n",
       "1                      Leon's Tail Red Ale    Ale  1.064  1.012  6.80   9.36   \n",
       "2  Coya's Bad Dog Chocolate Stout  swedish  Stout  1.061  1.015  6.08  28.31   \n",
       "3                        American Pale Ale    Ale  1.053  1.012  5.44  46.48   \n",
       "4                                 GDB Pils  Lager  1.053  1.017  4.64  42.29   \n",
       "\n",
       "   Color  BoilTime  BoilGravity  PitchRate  Efficiency   UserId  \n",
       "0  30.48        60          NaN        NaN        75.0      NaN  \n",
       "1   9.85        60        1.132       0.50        35.0      NaN  \n",
       "2  35.83        60        1.044       0.35        83.0  42087.0  \n",
       "3   5.77        60        1.033        NaN        70.0      NaN  \n",
       "4   4.22        90        1.039       0.50        77.0  14729.0  "
      ]
     },
     "execution_count": 3,
     "metadata": {},
     "output_type": "execute_result"
    }
   ],
   "source": [
    "data.head()"
   ]
  },
  {
   "cell_type": "code",
   "execution_count": 4,
   "metadata": {},
   "outputs": [
    {
     "data": {
      "text/plain": [
       "Name               0\n",
       "Style              0\n",
       "OG                 0\n",
       "FG                 0\n",
       "ABV                0\n",
       "IBU                0\n",
       "Color              0\n",
       "BoilTime           0\n",
       "BoilGravity     1512\n",
       "PitchRate      22720\n",
       "Efficiency         0\n",
       "UserId         29482\n",
       "dtype: int64"
      ]
     },
     "execution_count": 4,
     "metadata": {},
     "output_type": "execute_result"
    }
   ],
   "source": [
    "data.isna().sum()"
   ]
  },
  {
   "cell_type": "code",
   "execution_count": 5,
   "metadata": {},
   "outputs": [
    {
     "data": {
      "text/html": [
       "<div>\n",
       "<style scoped>\n",
       "    .dataframe tbody tr th:only-of-type {\n",
       "        vertical-align: middle;\n",
       "    }\n",
       "\n",
       "    .dataframe tbody tr th {\n",
       "        vertical-align: top;\n",
       "    }\n",
       "\n",
       "    .dataframe thead th {\n",
       "        text-align: right;\n",
       "    }\n",
       "</style>\n",
       "<table border=\"1\" class=\"dataframe\">\n",
       "  <thead>\n",
       "    <tr style=\"text-align: right;\">\n",
       "      <th></th>\n",
       "      <th>Style</th>\n",
       "      <th>OG</th>\n",
       "      <th>FG</th>\n",
       "      <th>ABV</th>\n",
       "      <th>IBU</th>\n",
       "      <th>Color</th>\n",
       "      <th>BoilTime</th>\n",
       "      <th>BoilGravity</th>\n",
       "      <th>Efficiency</th>\n",
       "    </tr>\n",
       "  </thead>\n",
       "  <tbody>\n",
       "    <tr>\n",
       "      <th>0</th>\n",
       "      <td>Stout</td>\n",
       "      <td>1.069</td>\n",
       "      <td>1.007</td>\n",
       "      <td>8.12</td>\n",
       "      <td>0.00</td>\n",
       "      <td>30.48</td>\n",
       "      <td>60</td>\n",
       "      <td>NaN</td>\n",
       "      <td>75.0</td>\n",
       "    </tr>\n",
       "    <tr>\n",
       "      <th>1</th>\n",
       "      <td>Ale</td>\n",
       "      <td>1.064</td>\n",
       "      <td>1.012</td>\n",
       "      <td>6.80</td>\n",
       "      <td>9.36</td>\n",
       "      <td>9.85</td>\n",
       "      <td>60</td>\n",
       "      <td>1.132</td>\n",
       "      <td>35.0</td>\n",
       "    </tr>\n",
       "    <tr>\n",
       "      <th>2</th>\n",
       "      <td>Stout</td>\n",
       "      <td>1.061</td>\n",
       "      <td>1.015</td>\n",
       "      <td>6.08</td>\n",
       "      <td>28.31</td>\n",
       "      <td>35.83</td>\n",
       "      <td>60</td>\n",
       "      <td>1.044</td>\n",
       "      <td>83.0</td>\n",
       "    </tr>\n",
       "    <tr>\n",
       "      <th>3</th>\n",
       "      <td>Ale</td>\n",
       "      <td>1.053</td>\n",
       "      <td>1.012</td>\n",
       "      <td>5.44</td>\n",
       "      <td>46.48</td>\n",
       "      <td>5.77</td>\n",
       "      <td>60</td>\n",
       "      <td>1.033</td>\n",
       "      <td>70.0</td>\n",
       "    </tr>\n",
       "    <tr>\n",
       "      <th>4</th>\n",
       "      <td>Lager</td>\n",
       "      <td>1.053</td>\n",
       "      <td>1.017</td>\n",
       "      <td>4.64</td>\n",
       "      <td>42.29</td>\n",
       "      <td>4.22</td>\n",
       "      <td>90</td>\n",
       "      <td>1.039</td>\n",
       "      <td>77.0</td>\n",
       "    </tr>\n",
       "  </tbody>\n",
       "</table>\n",
       "</div>"
      ],
      "text/plain": [
       "   Style     OG     FG   ABV    IBU  Color  BoilTime  BoilGravity  Efficiency\n",
       "0  Stout  1.069  1.007  8.12   0.00  30.48        60          NaN        75.0\n",
       "1    Ale  1.064  1.012  6.80   9.36   9.85        60        1.132        35.0\n",
       "2  Stout  1.061  1.015  6.08  28.31  35.83        60        1.044        83.0\n",
       "3    Ale  1.053  1.012  5.44  46.48   5.77        60        1.033        70.0\n",
       "4  Lager  1.053  1.017  4.64  42.29   4.22        90        1.039        77.0"
      ]
     },
     "execution_count": 5,
     "metadata": {},
     "output_type": "execute_result"
    }
   ],
   "source": [
    "#Pitch rate and UserId are not useful due to many missing values\n",
    "#or overall uselessness in designing model that predicts beer style\n",
    "data.drop(['UserId', 'PitchRate', 'Name'], axis=1, inplace=True)\n",
    "data.head()"
   ]
  },
  {
   "cell_type": "code",
   "execution_count": 6,
   "metadata": {
    "scrolled": true
   },
   "outputs": [
    {
     "data": {
      "text/plain": [
       "(42879, 9)"
      ]
     },
     "execution_count": 6,
     "metadata": {},
     "output_type": "execute_result"
    }
   ],
   "source": [
    "data.shape"
   ]
  },
  {
   "cell_type": "code",
   "execution_count": 7,
   "metadata": {},
   "outputs": [
    {
     "data": {
      "text/plain": [
       "(41367, 9)"
      ]
     },
     "execution_count": 7,
     "metadata": {},
     "output_type": "execute_result"
    }
   ],
   "source": [
    "# Clearing data from entries with missing values\n",
    "data = data.dropna()\n",
    "data.shape"
   ]
  },
  {
   "cell_type": "code",
   "execution_count": 8,
   "metadata": {},
   "outputs": [
    {
     "data": {
      "text/html": [
       "<div>\n",
       "<style scoped>\n",
       "    .dataframe tbody tr th:only-of-type {\n",
       "        vertical-align: middle;\n",
       "    }\n",
       "\n",
       "    .dataframe tbody tr th {\n",
       "        vertical-align: top;\n",
       "    }\n",
       "\n",
       "    .dataframe thead th {\n",
       "        text-align: right;\n",
       "    }\n",
       "</style>\n",
       "<table border=\"1\" class=\"dataframe\">\n",
       "  <thead>\n",
       "    <tr style=\"text-align: right;\">\n",
       "      <th></th>\n",
       "      <th>OG</th>\n",
       "      <th>FG</th>\n",
       "      <th>ABV</th>\n",
       "      <th>IBU</th>\n",
       "      <th>Color</th>\n",
       "      <th>BoilTime</th>\n",
       "      <th>BoilGravity</th>\n",
       "      <th>Efficiency</th>\n",
       "    </tr>\n",
       "  </thead>\n",
       "  <tbody>\n",
       "    <tr>\n",
       "      <th>count</th>\n",
       "      <td>41367.000000</td>\n",
       "      <td>41367.000000</td>\n",
       "      <td>41367.000000</td>\n",
       "      <td>41367.000000</td>\n",
       "      <td>41367.000000</td>\n",
       "      <td>41367.000000</td>\n",
       "      <td>41367.00000</td>\n",
       "      <td>41367.000000</td>\n",
       "    </tr>\n",
       "    <tr>\n",
       "      <th>mean</th>\n",
       "      <td>1.061100</td>\n",
       "      <td>1.013964</td>\n",
       "      <td>6.193556</td>\n",
       "      <td>50.196978</td>\n",
       "      <td>14.081651</td>\n",
       "      <td>64.962676</td>\n",
       "      <td>1.05384</td>\n",
       "      <td>66.219693</td>\n",
       "    </tr>\n",
       "    <tr>\n",
       "      <th>std</th>\n",
       "      <td>0.016871</td>\n",
       "      <td>0.005149</td>\n",
       "      <td>1.735526</td>\n",
       "      <td>44.589511</td>\n",
       "      <td>12.801189</td>\n",
       "      <td>13.426453</td>\n",
       "      <td>0.02604</td>\n",
       "      <td>13.990237</td>\n",
       "    </tr>\n",
       "    <tr>\n",
       "      <th>min</th>\n",
       "      <td>1.000000</td>\n",
       "      <td>0.999000</td>\n",
       "      <td>0.000000</td>\n",
       "      <td>0.000000</td>\n",
       "      <td>0.000000</td>\n",
       "      <td>0.000000</td>\n",
       "      <td>1.00000</td>\n",
       "      <td>0.000000</td>\n",
       "    </tr>\n",
       "    <tr>\n",
       "      <th>25%</th>\n",
       "      <td>1.051000</td>\n",
       "      <td>1.011000</td>\n",
       "      <td>5.180000</td>\n",
       "      <td>27.890000</td>\n",
       "      <td>5.380000</td>\n",
       "      <td>60.000000</td>\n",
       "      <td>1.04100</td>\n",
       "      <td>65.000000</td>\n",
       "    </tr>\n",
       "    <tr>\n",
       "      <th>50%</th>\n",
       "      <td>1.058657</td>\n",
       "      <td>1.013000</td>\n",
       "      <td>5.910000</td>\n",
       "      <td>40.930000</td>\n",
       "      <td>8.260000</td>\n",
       "      <td>60.000000</td>\n",
       "      <td>1.04800</td>\n",
       "      <td>70.000000</td>\n",
       "    </tr>\n",
       "    <tr>\n",
       "      <th>75%</th>\n",
       "      <td>1.068000</td>\n",
       "      <td>1.016000</td>\n",
       "      <td>6.880000</td>\n",
       "      <td>63.445000</td>\n",
       "      <td>17.590000</td>\n",
       "      <td>60.000000</td>\n",
       "      <td>1.05800</td>\n",
       "      <td>75.000000</td>\n",
       "    </tr>\n",
       "    <tr>\n",
       "      <th>max</th>\n",
       "      <td>1.500000</td>\n",
       "      <td>1.156000</td>\n",
       "      <td>54.720000</td>\n",
       "      <td>3409.300000</td>\n",
       "      <td>50.000000</td>\n",
       "      <td>240.000000</td>\n",
       "      <td>1.50000</td>\n",
       "      <td>100.000000</td>\n",
       "    </tr>\n",
       "  </tbody>\n",
       "</table>\n",
       "</div>"
      ],
      "text/plain": [
       "                 OG            FG           ABV           IBU         Color  \\\n",
       "count  41367.000000  41367.000000  41367.000000  41367.000000  41367.000000   \n",
       "mean       1.061100      1.013964      6.193556     50.196978     14.081651   \n",
       "std        0.016871      0.005149      1.735526     44.589511     12.801189   \n",
       "min        1.000000      0.999000      0.000000      0.000000      0.000000   \n",
       "25%        1.051000      1.011000      5.180000     27.890000      5.380000   \n",
       "50%        1.058657      1.013000      5.910000     40.930000      8.260000   \n",
       "75%        1.068000      1.016000      6.880000     63.445000     17.590000   \n",
       "max        1.500000      1.156000     54.720000   3409.300000     50.000000   \n",
       "\n",
       "           BoilTime  BoilGravity    Efficiency  \n",
       "count  41367.000000  41367.00000  41367.000000  \n",
       "mean      64.962676      1.05384     66.219693  \n",
       "std       13.426453      0.02604     13.990237  \n",
       "min        0.000000      1.00000      0.000000  \n",
       "25%       60.000000      1.04100     65.000000  \n",
       "50%       60.000000      1.04800     70.000000  \n",
       "75%       60.000000      1.05800     75.000000  \n",
       "max      240.000000      1.50000    100.000000  "
      ]
     },
     "execution_count": 8,
     "metadata": {},
     "output_type": "execute_result"
    }
   ],
   "source": [
    "data.describe()"
   ]
  },
  {
   "cell_type": "code",
   "execution_count": 9,
   "metadata": {},
   "outputs": [
    {
     "data": {
      "text/html": [
       "<div>\n",
       "<style scoped>\n",
       "    .dataframe tbody tr th:only-of-type {\n",
       "        vertical-align: middle;\n",
       "    }\n",
       "\n",
       "    .dataframe tbody tr th {\n",
       "        vertical-align: top;\n",
       "    }\n",
       "\n",
       "    .dataframe thead th {\n",
       "        text-align: right;\n",
       "    }\n",
       "</style>\n",
       "<table border=\"1\" class=\"dataframe\">\n",
       "  <thead>\n",
       "    <tr style=\"text-align: right;\">\n",
       "      <th></th>\n",
       "      <th>Style</th>\n",
       "    </tr>\n",
       "  </thead>\n",
       "  <tbody>\n",
       "    <tr>\n",
       "      <th>count</th>\n",
       "      <td>41367</td>\n",
       "    </tr>\n",
       "    <tr>\n",
       "      <th>unique</th>\n",
       "      <td>7</td>\n",
       "    </tr>\n",
       "    <tr>\n",
       "      <th>top</th>\n",
       "      <td>Ale</td>\n",
       "    </tr>\n",
       "    <tr>\n",
       "      <th>freq</th>\n",
       "      <td>14523</td>\n",
       "    </tr>\n",
       "  </tbody>\n",
       "</table>\n",
       "</div>"
      ],
      "text/plain": [
       "        Style\n",
       "count   41367\n",
       "unique      7\n",
       "top       Ale\n",
       "freq    14523"
      ]
     },
     "execution_count": 9,
     "metadata": {},
     "output_type": "execute_result"
    }
   ],
   "source": [
    "data.describe(include=['O'])"
   ]
  },
  {
   "cell_type": "code",
   "execution_count": 10,
   "metadata": {},
   "outputs": [
    {
     "data": {
      "image/png": "[encoded data removed]",
      "text/plain": [
       "<Figure size 432x288 with 2 Axes>"
      ]
     },
     "metadata": {
      "needs_background": "light"
     },
     "output_type": "display_data"
    }
   ],
   "source": [
    "#Coleration\n",
    "sns.heatmap(data.corr(), annot=True)\n",
    "plt.tight_layout()"
   ]
  },
  {
   "cell_type": "code",
   "execution_count": 11,
   "metadata": {},
   "outputs": [
    {
     "data": {
      "text/html": [
       "<div>\n",
       "<style scoped>\n",
       "    .dataframe tbody tr th:only-of-type {\n",
       "        vertical-align: middle;\n",
       "    }\n",
       "\n",
       "    .dataframe tbody tr th {\n",
       "        vertical-align: top;\n",
       "    }\n",
       "\n",
       "    .dataframe thead th {\n",
       "        text-align: right;\n",
       "    }\n",
       "</style>\n",
       "<table border=\"1\" class=\"dataframe\">\n",
       "  <thead>\n",
       "    <tr style=\"text-align: right;\">\n",
       "      <th></th>\n",
       "      <th>Style</th>\n",
       "      <th>Color</th>\n",
       "    </tr>\n",
       "  </thead>\n",
       "  <tbody>\n",
       "    <tr>\n",
       "      <th>5</th>\n",
       "      <td>Stout</td>\n",
       "      <td>39.577584</td>\n",
       "    </tr>\n",
       "    <tr>\n",
       "      <th>3</th>\n",
       "      <td>Porter</td>\n",
       "      <td>33.342211</td>\n",
       "    </tr>\n",
       "    <tr>\n",
       "      <th>0</th>\n",
       "      <td>Ale</td>\n",
       "      <td>10.637899</td>\n",
       "    </tr>\n",
       "    <tr>\n",
       "      <th>1</th>\n",
       "      <td>IPA</td>\n",
       "      <td>9.767423</td>\n",
       "    </tr>\n",
       "    <tr>\n",
       "      <th>2</th>\n",
       "      <td>Lager</td>\n",
       "      <td>7.980793</td>\n",
       "    </tr>\n",
       "    <tr>\n",
       "      <th>4</th>\n",
       "      <td>Saison</td>\n",
       "      <td>6.569804</td>\n",
       "    </tr>\n",
       "    <tr>\n",
       "      <th>6</th>\n",
       "      <td>Witbier</td>\n",
       "      <td>4.543633</td>\n",
       "    </tr>\n",
       "  </tbody>\n",
       "</table>\n",
       "</div>"
      ],
      "text/plain": [
       "     Style      Color\n",
       "5    Stout  39.577584\n",
       "3   Porter  33.342211\n",
       "0      Ale  10.637899\n",
       "1      IPA   9.767423\n",
       "2    Lager   7.980793\n",
       "4   Saison   6.569804\n",
       "6  Witbier   4.543633"
      ]
     },
     "execution_count": 11,
     "metadata": {},
     "output_type": "execute_result"
    }
   ],
   "source": [
    "# Lets what color have to do with style of beer\n",
    "data[['Style', 'Color']].groupby(['Style'], as_index=False).mean().sort_values(by='Color', ascending=False)"
   ]
  },
  {
   "cell_type": "code",
   "execution_count": 12,
   "metadata": {},
   "outputs": [
    {
     "data": {
      "text/plain": [
       "<matplotlib.axes._subplots.AxesSubplot at 0x194a74df7b8>"
      ]
     },
     "execution_count": 12,
     "metadata": {},
     "output_type": "execute_result"
    },
    {
     "data": {
      "image/png": "[encoded data removed]",
      "text/plain": [
       "<Figure size 432x288 with 1 Axes>"
      ]
     },
     "metadata": {
      "needs_background": "light"
     },
     "output_type": "display_data"
    }
   ],
   "source": [
    "\n",
    "sns.countplot(data['Style'])"
   ]
  },
  {
   "cell_type": "code",
   "execution_count": 13,
   "metadata": {},
   "outputs": [],
   "source": [
    "Y = data['Style'].values"
   ]
  },
  {
   "cell_type": "code",
   "execution_count": 14,
   "metadata": {},
   "outputs": [],
   "source": [
    "data.drop(['Style'], axis=1, inplace=True)"
   ]
  },
  {
   "cell_type": "code",
   "execution_count": 15,
   "metadata": {},
   "outputs": [
    {
     "name": "stdout",
     "output_type": "stream",
     "text": [
      "<class 'pandas.core.frame.DataFrame'>\n",
      "Int64Index: 41367 entries, 1 to 42878\n",
      "Data columns (total 8 columns):\n",
      " #   Column       Non-Null Count  Dtype  \n",
      "---  ------       --------------  -----  \n",
      " 0   OG           41367 non-null  float64\n",
      " 1   FG           41367 non-null  float64\n",
      " 2   ABV          41367 non-null  float64\n",
      " 3   IBU          41367 non-null  float64\n",
      " 4   Color        41367 non-null  float64\n",
      " 5   BoilTime     41367 non-null  int64  \n",
      " 6   BoilGravity  41367 non-null  float64\n",
      " 7   Efficiency   41367 non-null  float64\n",
      "dtypes: float64(7), int64(1)\n",
      "memory usage: 4.1 MB\n"
     ]
    }
   ],
   "source": [
    "data.info()"
   ]
  },
  {
   "cell_type": "code",
   "execution_count": 16,
   "metadata": {},
   "outputs": [],
   "source": [
    "# Division to trian and test data\n",
    "X = data.values\n",
    "X_train, X_test, y_train, y_test = train_test_split(X, Y, test_size = 0.2)"
   ]
  },
  {
   "cell_type": "code",
   "execution_count": 17,
   "metadata": {},
   "outputs": [
    {
     "data": {
      "text/plain": [
       "DecisionTreeClassifier(ccp_alpha=0.0, class_weight=None, criterion='gini',\n",
       "                       max_depth=None, max_features=None, max_leaf_nodes=None,\n",
       "                       min_impurity_decrease=0.0, min_impurity_split=None,\n",
       "                       min_samples_leaf=1, min_samples_split=2,\n",
       "                       min_weight_fraction_leaf=0.0, presort='deprecated',\n",
       "                       random_state=23215, splitter='best')"
      ]
     },
     "execution_count": 17,
     "metadata": {},
     "output_type": "execute_result"
    }
   ],
   "source": [
    "# AI Model\n",
    "model = DecisionTreeClassifier(random_state=23215)\n",
    "model.fit(X_train,y_train)"
   ]
  },
  {
   "cell_type": "code",
   "execution_count": 18,
   "metadata": {},
   "outputs": [],
   "source": [
    "def calculate_metrics(training_model,X_test,y_test):\n",
    "    pred = model.predict(X_test)\n",
    "    cm = confusion_matrix(y_test, pred)\n",
    "    acc = accuracy_score(y_test, pred)\n",
    "#     precision = precision_score(y_test, pred)\n",
    "#     recall = recall_score(y_test, pred)\n",
    "#     f_score = f1_score(y_test, pred)\n",
    "    print(f'Accuracy {acc}')\n",
    "    return cm"
   ]
  },
  {
   "cell_type": "code",
   "execution_count": 19,
   "metadata": {},
   "outputs": [
    {
     "name": "stdout",
     "output_type": "stream",
     "text": [
      "Accuracy 0.5621223108532754\n"
     ]
    }
   ],
   "source": [
    "cm = calculate_metrics(model, X_test, y_test)"
   ]
  },
  {
   "cell_type": "code",
   "execution_count": 20,
   "metadata": {},
   "outputs": [
    {
     "name": "stdout",
     "output_type": "stream",
     "text": [
      "Model params: max_depth:2\n",
      "Train_acc: 0.6286525851388511\tTest_acc: 0.6154218032390621\n",
      "Model params: max_depth:4\n",
      "Train_acc: 0.643942827788354\tTest_acc: 0.6329465796470872\n",
      "Model params: max_depth:6\n",
      "Train_acc: 0.66325204726075\tTest_acc: 0.6476915639352188\n",
      "Model params: max_depth:8\n",
      "Train_acc: 0.687607651164899\tTest_acc: 0.6537345902828137\n",
      "Model params: max_depth:10\n",
      "Train_acc: 0.7149246064122322\tTest_acc: 0.6515591007976794\n",
      "Model params: max_depth:12\n",
      "Train_acc: 0.7537545704529659\tTest_acc: 0.6439448875997099\n",
      "Model params: max_depth:14\n",
      "Train_acc: 0.8005318345269392\tTest_acc: 0.6288373217307227\n",
      "Model params: max_depth:16\n",
      "Train_acc: 0.8475206236968543\tTest_acc: 0.6150592216582065\n"
     ]
    }
   ],
   "source": [
    "max_depths = [2*x for x in range(1,9)]\n",
    "for max_depth in max_depths:\n",
    "    model = DecisionTreeClassifier(max_depth=max_depth, random_state=23215)\n",
    "    model.fit(X_train, y_train)\n",
    "    train_pred = model.predict(X_train) \n",
    "    test_pred = model.predict(X_test)\n",
    "    print('Model params: max_depth:{}'.format(max_depth))\n",
    "    print('Train_acc: {}\\tTest_acc: {}'.format(accuracy_score(y_train, train_pred), accuracy_score(y_test, test_pred)))"
   ]
  },
  {
   "cell_type": "code",
   "execution_count": 21,
   "metadata": {},
   "outputs": [
    {
     "name": "stdout",
     "output_type": "stream",
     "text": [
      "Model param: min_samples_split:5\n",
      "Train_acc: 0.9250596802949265\tTest_acc: 0.5714285714285714\n",
      "Model param: min_samples_split:15\n",
      "Train_acc: 0.8227419696008219\tTest_acc: 0.5947546531302876\n",
      "Model param: min_samples_split:25\n",
      "Train_acc: 0.7825219835010425\tTest_acc: 0.6099830795262268\n",
      "Model param: min_samples_split:35\n",
      "Train_acc: 0.7600398875895205\tTest_acc: 0.6206188058979937\n",
      "Model param: min_samples_split:45\n",
      "Train_acc: 0.7455353095820868\tTest_acc: 0.6278704375151075\n",
      "Model param: min_samples_split:55\n",
      "Train_acc: 0.7356842836853715\tTest_acc: 0.6325839980662316\n",
      "Model param: min_samples_split:65\n",
      "Train_acc: 0.7272534977185507\tTest_acc: 0.6376601401982113\n"
     ]
    }
   ],
   "source": [
    "min_samples_splits = [5*x for x in range(1,15,2)]\n",
    "for min_sample in min_samples_splits:\n",
    "    model = DecisionTreeClassifier(min_samples_split=min_sample, random_state=23215)\n",
    "    model.fit(X_train, y_train)\n",
    "    train_pred = model.predict(X_train)\n",
    "    test_pred = model.predict(X_test) \n",
    "    print('Model param: min_samples_split:{}'.format(min_sample))\n",
    "    print('Train_acc: {}\\tTest_acc: {}'.format(accuracy_score(y_train, train_pred), accuracy_score(y_test, test_pred)))"
   ]
  },
  {
   "cell_type": "code",
   "execution_count": 22,
   "metadata": {},
   "outputs": [],
   "source": [
    "# Tworzymy słownik z różnymi wartościami dla parametrów\n",
    "parameters = {'criterion': ['entropy', 'gini'],\n",
    "              'min_samples_split': [5*x for x in range(1,15,2)],\n",
    "              'min_samples_leaf': [2*x+1 for x in range(14)],\n",
    "              'max_leaf_nodes': [2*x for x in range(1, 9)],\n",
    "              'max_depth': [2*x for x in range(1,9)]}"
   ]
  },
  {
   "cell_type": "code",
   "execution_count": 23,
   "metadata": {},
   "outputs": [
    {
     "data": {
      "text/plain": [
       "GridSearchCV(cv=3, error_score=nan,\n",
       "             estimator=DecisionTreeClassifier(ccp_alpha=0.0, class_weight=None,\n",
       "                                              criterion='gini', max_depth=None,\n",
       "                                              max_features=None,\n",
       "                                              max_leaf_nodes=None,\n",
       "                                              min_impurity_decrease=0.0,\n",
       "                                              min_impurity_split=None,\n",
       "                                              min_samples_leaf=1,\n",
       "                                              min_samples_split=2,\n",
       "                                              min_weight_fraction_leaf=0.0,\n",
       "                                              presort='deprecated',\n",
       "                                              random_state=23215,\n",
       "                                              splitter='best'),\n",
       "             iid='deprecated', n_jobs=None,\n",
       "             param_grid={'criterion': ['entropy', 'gini'],\n",
       "                         'max_depth': [2, 4, 6, 8, 10, 12, 14, 16],\n",
       "                         'max_leaf_nodes': [2, 4, 6, 8, 10, 12, 14, 16],\n",
       "                         'min_samples_leaf': [1, 3, 5, 7, 9, 11, 13, 15, 17, 19,\n",
       "                                              21, 23, 25, 27],\n",
       "                         'min_samples_split': [5, 15, 25, 35, 45, 55, 65]},\n",
       "             pre_dispatch='2*n_jobs', refit=True, return_train_score=False,\n",
       "             scoring=None, verbose=0)"
      ]
     },
     "execution_count": 23,
     "metadata": {},
     "output_type": "execute_result"
    }
   ],
   "source": [
    "grid_search = GridSearchCV(DecisionTreeClassifier(random_state=23215), param_grid=parameters, cv=3)\n",
    "# We search through to find the best params\n",
    "grid_search.fit(X_train, y_train)"
   ]
  },
  {
   "cell_type": "code",
   "execution_count": 24,
   "metadata": {},
   "outputs": [
    {
     "name": "stdout",
     "output_type": "stream",
     "text": [
      "{'criterion': 'gini', 'max_depth': 8, 'max_leaf_nodes': 16, 'min_samples_leaf': 1, 'min_samples_split': 5}\n"
     ]
    }
   ],
   "source": [
    "# Display best params\n",
    "print(grid_search.best_params_)"
   ]
  },
  {
   "cell_type": "code",
   "execution_count": 25,
   "metadata": {},
   "outputs": [
    {
     "name": "stdout",
     "output_type": "stream",
     "text": [
      "Accuracy 0.6376601401982113\n"
     ]
    }
   ],
   "source": [
    "\n",
    "# Lets see how good did it do\n",
    "best_model = DecisionTreeClassifier(**grid_search.best_params_)\n",
    "best_model.fit(X_train, y_train)\n",
    "\n",
    "cm = calculate_metrics(best_model, X_test, y_test)"
   ]
  }
 ],
 "metadata": {
  "kernelspec": {
   "display_name": "Python 3",
   "language": "python",
   "name": "python3"
  },
  "language_info": {
   "codemirror_mode": {
    "name": "ipython",
    "version": 3
   },
   "file_extension": ".py",
   "mimetype": "text/x-python",
   "name": "python",
   "nbconvert_exporter": "python",
   "pygments_lexer": "ipython3",
   "version": "3.7.0"
  }
 },
 "nbformat": 4,
 "nbformat_minor": 4
}
